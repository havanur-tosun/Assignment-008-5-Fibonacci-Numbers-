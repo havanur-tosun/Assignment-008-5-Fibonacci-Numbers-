{
  "nbformat": 4,
  "nbformat_minor": 0,
  "metadata": {
    "colab": {
      "name": "Fibonacci.ipynb",
      "provenance": [],
      "collapsed_sections": [],
      "authorship_tag": "ABX9TyN0zMr/USi8LeG6CoRCxPkn",
      "include_colab_link": true
    },
    "kernelspec": {
      "name": "python3",
      "display_name": "Python 3"
    },
    "language_info": {
      "name": "python"
    }
  },
  "cells": [
    {
      "cell_type": "markdown",
      "metadata": {
        "id": "view-in-github",
        "colab_type": "text"
      },
      "source": [
        "<a href=\"https://colab.research.google.com/github/havanur-tosun/Assignment-008-5-Fibonacci-Numbers-/blob/main/Fibonacci.ipynb\" target=\"_parent\"><img src=\"https://colab.research.google.com/assets/colab-badge.svg\" alt=\"Open In Colab\"/></a>"
      ]
    },
    {
      "cell_type": "code",
      "metadata": {
        "colab": {
          "base_uri": "https://localhost:8080/"
        },
        "id": "EB9pio2_xCyu",
        "outputId": "6fdca8fd-88ec-4821-cbcf-1334ac446331"
      },
      "source": [
        "list1 = []\n",
        "\n",
        "a = 0\n",
        "b = 1\n",
        "c = 1\n",
        "\n",
        "while c < 54:\n",
        "  c = a + b\n",
        "  a = b\n",
        "  b = c\n",
        "  list1.append(b)\n",
        "\n",
        "print(list1)"
      ],
      "execution_count": null,
      "outputs": [
        {
          "output_type": "stream",
          "text": [
            "[1, 2, 3, 5, 8, 13, 21, 34, 55]\n"
          ],
          "name": "stdout"
        }
      ]
    }
  ]
}